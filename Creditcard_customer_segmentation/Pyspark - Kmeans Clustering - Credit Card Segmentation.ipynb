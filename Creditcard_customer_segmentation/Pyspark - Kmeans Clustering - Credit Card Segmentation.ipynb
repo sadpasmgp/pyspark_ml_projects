{
 "cells": [
  {
   "cell_type": "markdown",
   "id": "ce2957dd",
   "metadata": {},
   "source": [
    "About Clustering:\n",
    "\n",
    "Clustering is an unsupervised learning technique, in short, you are working on data, without having any information about a target attribute or a dependent variable. The general idea of clustering is to find some intrinsic structure in the data, often referred to as groups of similar objects. The algorithm studies the data to identify these patterns or groups such that each member in a group is closer to another member in the group (lower intracluster distance) and farther from another member in a different group (higher inter-cluster distance)."
   ]
  },
  {
   "cell_type": "markdown",
   "id": "b78144c9",
   "metadata": {},
   "source": [
    "Where clustering fits in?\n",
    "\n",
    "Most of you must be familiar with these examples from real life:\n",
    "\n",
    "    Customer Segmentation — Used widely for targeted marketing\n",
    "    Image Segmentation — Identify the change in landscape or intrusion\n",
    "    Recommendation Engines"
   ]
  },
  {
   "cell_type": "markdown",
   "id": "dddb931e",
   "metadata": {},
   "source": [
    "Background:\n",
    "\n",
    "K Means clustering, irrespective of the platform uses a similarity measure in the form of Euclidean Distance. Often referred to as Divisive or Partitional Clustering, the basic idea of K Means is to start with every data point a bigger cluster and then divide them into smaller groups based on user input K (or the number of clusters). Each cluster has a center called the centroid. \n",
    "\n",
    "The total number of centroids in a given cluster is always equal to K. The algorithm iteratively looks for data points and assign them to their closest cluster.\n",
    "\n",
    "\n",
    "Once all data points are assigned to their respective centroids (which represents each cluster here), the centroid values are recalculated and the process repeats until the clusters reach a convergence criterion. Centroids are nothing but new mean for each cluster \n",
    "\n",
    "(e.g. A Cluster Consisting of Customers A, B, C with an average spend of 100, 200, 300 and a basket size of 10, 15, and 20 will have centroids as 200 and 15 respectively). \n",
    "\n",
    "Convergence criterion is a measure of stability or compactness of the cluster, i.e. the intracluster distance between any two iterations doesn’t change beyond a given threshold."
   ]
  },
  {
   "cell_type": "markdown",
   "id": "96041014",
   "metadata": {},
   "source": [
    "Data:\n",
    "\n",
    "The dataset consists of 9K active credit cardholders over 6 months and their transaction and account attributes. The idea is to develop a customer segmentation for marketing strategy."
   ]
  },
  {
   "cell_type": "code",
   "execution_count": 1,
   "id": "bf4b0176",
   "metadata": {},
   "outputs": [
    {
     "name": "stderr",
     "output_type": "stream",
     "text": [
      "22/04/25 00:21:18 WARN Utils: Your hostname, sp-pc resolves to a loopback address: 127.0.1.1; using 172.29.34.215 instead (on interface eth0)\n",
      "22/04/25 00:21:18 WARN Utils: Set SPARK_LOCAL_IP if you need to bind to another address\n",
      "WARNING: An illegal reflective access operation has occurred\n",
      "WARNING: Illegal reflective access by org.apache.spark.unsafe.Platform (file:/home/decentboy/.local/lib/python3.9/site-packages/pyspark/jars/spark-unsafe_2.12-3.2.1.jar) to constructor java.nio.DirectByteBuffer(long,int)\n",
      "WARNING: Please consider reporting this to the maintainers of org.apache.spark.unsafe.Platform\n",
      "WARNING: Use --illegal-access=warn to enable warnings of further illegal reflective access operations\n",
      "WARNING: All illegal access operations will be denied in a future release\n",
      "Using Spark's default log4j profile: org/apache/spark/log4j-defaults.properties\n",
      "Setting default log level to \"WARN\".\n",
      "To adjust logging level use sc.setLogLevel(newLevel). For SparkR, use setLogLevel(newLevel).\n",
      "22/04/25 00:21:19 WARN NativeCodeLoader: Unable to load native-hadoop library for your platform... using builtin-java classes where applicable\n",
      "22/04/25 00:21:20 WARN Utils: Service 'SparkUI' could not bind on port 4040. Attempting port 4041.\n"
     ]
    },
    {
     "name": "stdout",
     "output_type": "stream",
     "text": [
      "root\n",
      " |-- CUST_ID: string (nullable = true)\n",
      " |-- BALANCE: double (nullable = true)\n",
      " |-- BALANCE_FREQUENCY: double (nullable = true)\n",
      " |-- PURCHASES: double (nullable = true)\n",
      " |-- ONEOFF_PURCHASES: double (nullable = true)\n",
      " |-- INSTALLMENTS_PURCHASES: double (nullable = true)\n",
      " |-- CASH_ADVANCE: double (nullable = true)\n",
      " |-- PURCHASES_FREQUENCY: double (nullable = true)\n",
      " |-- ONEOFF_PURCHASES_FREQUENCY: double (nullable = true)\n",
      " |-- PURCHASES_INSTALLMENTS_FREQUENCY: double (nullable = true)\n",
      " |-- CASH_ADVANCE_FREQUENCY: double (nullable = true)\n",
      " |-- CASH_ADVANCE_TRX: integer (nullable = true)\n",
      " |-- PURCHASES_TRX: integer (nullable = true)\n",
      " |-- CREDIT_LIMIT: double (nullable = true)\n",
      " |-- PAYMENTS: double (nullable = true)\n",
      " |-- MINIMUM_PAYMENTS: double (nullable = true)\n",
      " |-- PRC_FULL_PAYMENT: double (nullable = true)\n",
      " |-- TENURE: integer (nullable = true)\n",
      "\n"
     ]
    }
   ],
   "source": [
    "from pyspark.sql import SparkSession\n",
    "import gc\n",
    "\n",
    "spark = SparkSession.builder.appName('KMeans Clustering').getOrCreate()\n",
    "\n",
    "data_customer = spark.read.csv('CCGENERAL.csv', header=True, inferSchema=True)\n",
    "\n",
    "data_customer.printSchema()"
   ]
  },
  {
   "cell_type": "markdown",
   "id": "94324775",
   "metadata": {},
   "source": [
    "The attributes that are self intuitive can be divided into three broader categories. \n",
    "\n",
    "    Customer Information (Primary Key as CUST_ID), \n",
    "    account information (balance, balance frequency, purchases, credit limit, tenure, etc.),\n",
    "    and transactions (purchase frequency, payments, cash advance, etc.)."
   ]
  },
  {
   "cell_type": "code",
   "execution_count": 2,
   "id": "80bbd715",
   "metadata": {},
   "outputs": [],
   "source": [
    "data_customer = data_customer.na.fill(0)"
   ]
  },
  {
   "cell_type": "code",
   "execution_count": 3,
   "id": "83387849",
   "metadata": {},
   "outputs": [
    {
     "name": "stdout",
     "output_type": "stream",
     "text": [
      "+-------+---------+-----------------+---------+----------------+----------------------+------------+-------------------+--------------------------+--------------------------------+----------------------+----------------+-------------+------------+----------+----------------+----------------+------+\n",
      "|CUST_ID|  BALANCE|BALANCE_FREQUENCY|PURCHASES|ONEOFF_PURCHASES|INSTALLMENTS_PURCHASES|CASH_ADVANCE|PURCHASES_FREQUENCY|ONEOFF_PURCHASES_FREQUENCY|PURCHASES_INSTALLMENTS_FREQUENCY|CASH_ADVANCE_FREQUENCY|CASH_ADVANCE_TRX|PURCHASES_TRX|CREDIT_LIMIT|  PAYMENTS|MINIMUM_PAYMENTS|PRC_FULL_PAYMENT|TENURE|\n",
      "+-------+---------+-----------------+---------+----------------+----------------------+------------+-------------------+--------------------------+--------------------------------+----------------------+----------------+-------------+------------+----------+----------------+----------------+------+\n",
      "| C10001|40.900749|         0.818182|     95.4|             0.0|                  95.4|         0.0|           0.166667|                       0.0|                        0.083333|                   0.0|               0|            2|      1000.0|201.802084|      139.509787|             0.0|    12|\n",
      "+-------+---------+-----------------+---------+----------------+----------------------+------------+-------------------+--------------------------+--------------------------------+----------------------+----------------+-------------+------------+----------+----------------+----------------+------+\n",
      "only showing top 1 row\n",
      "\n"
     ]
    }
   ],
   "source": [
    "data_customer.show(1)"
   ]
  },
  {
   "cell_type": "markdown",
   "id": "c249f3fc",
   "metadata": {},
   "source": [
    "All attributes under consideration are numerical or discrete numeric, hence we need to convert them into features using a Vector Assembler. A vector assembler is a transformer that converts a set of features into a single vector column often referred to as an array of features. Features here are columns. Since customer id is an identifier that won’t be used for clustering, we first extract the required columns using .columns, pass it as an input to Vector Assembler, and then use the transform() to convert the input columns into a single vector column called a feature."
   ]
  },
  {
   "cell_type": "code",
   "execution_count": 4,
   "id": "d92bc0b6",
   "metadata": {},
   "outputs": [
    {
     "data": {
      "text/plain": [
       "['CUST_ID',\n",
       " 'BALANCE',\n",
       " 'BALANCE_FREQUENCY',\n",
       " 'PURCHASES',\n",
       " 'ONEOFF_PURCHASES',\n",
       " 'INSTALLMENTS_PURCHASES',\n",
       " 'CASH_ADVANCE',\n",
       " 'PURCHASES_FREQUENCY',\n",
       " 'ONEOFF_PURCHASES_FREQUENCY',\n",
       " 'PURCHASES_INSTALLMENTS_FREQUENCY',\n",
       " 'CASH_ADVANCE_FREQUENCY',\n",
       " 'CASH_ADVANCE_TRX',\n",
       " 'PURCHASES_TRX',\n",
       " 'CREDIT_LIMIT',\n",
       " 'PAYMENTS',\n",
       " 'MINIMUM_PAYMENTS',\n",
       " 'PRC_FULL_PAYMENT',\n",
       " 'TENURE']"
      ]
     },
     "execution_count": 4,
     "metadata": {},
     "output_type": "execute_result"
    }
   ],
   "source": [
    "from pyspark.ml.feature import VectorAssembler\n"
   ]
  },
  {
   "cell_type": "code",
   "execution_count": 5,
   "id": "5af5773d",
   "metadata": {},
   "outputs": [],
   "source": [
    "assemble = VectorAssembler(inputCols=[\n",
    " 'BALANCE',\n",
    " 'BALANCE_FREQUENCY',\n",
    " 'PURCHASES',\n",
    " 'ONEOFF_PURCHASES',\n",
    " 'INSTALLMENTS_PURCHASES',\n",
    " 'CASH_ADVANCE',\n",
    " 'PURCHASES_FREQUENCY',\n",
    " 'ONEOFF_PURCHASES_FREQUENCY',\n",
    " 'PURCHASES_INSTALLMENTS_FREQUENCY',\n",
    " 'CASH_ADVANCE_FREQUENCY',\n",
    " 'CASH_ADVANCE_TRX',\n",
    " 'PURCHASES_TRX',\n",
    " 'CREDIT_LIMIT',\n",
    " 'PAYMENTS',\n",
    " 'MINIMUM_PAYMENTS',\n",
    " 'PRC_FULL_PAYMENT',\n",
    " 'TENURE'], outputCol='features')"
   ]
  },
  {
   "cell_type": "code",
   "execution_count": 6,
   "id": "8649386e",
   "metadata": {},
   "outputs": [
    {
     "name": "stderr",
     "output_type": "stream",
     "text": [
      "22/04/25 00:21:24 WARN package: Truncated the string representation of a plan since it was too large. This behavior can be adjusted by setting 'spark.sql.debug.maxToStringFields'.\n"
     ]
    },
    {
     "name": "stdout",
     "output_type": "stream",
     "text": [
      "+-------+-----------+-----------------+---------+----------------+----------------------+------------+-------------------+--------------------------+--------------------------------+----------------------+----------------+-------------+------------+-----------+----------------+----------------+------+--------------------+\n",
      "|CUST_ID|    BALANCE|BALANCE_FREQUENCY|PURCHASES|ONEOFF_PURCHASES|INSTALLMENTS_PURCHASES|CASH_ADVANCE|PURCHASES_FREQUENCY|ONEOFF_PURCHASES_FREQUENCY|PURCHASES_INSTALLMENTS_FREQUENCY|CASH_ADVANCE_FREQUENCY|CASH_ADVANCE_TRX|PURCHASES_TRX|CREDIT_LIMIT|   PAYMENTS|MINIMUM_PAYMENTS|PRC_FULL_PAYMENT|TENURE|            features|\n",
      "+-------+-----------+-----------------+---------+----------------+----------------------+------------+-------------------+--------------------------+--------------------------------+----------------------+----------------+-------------+------------+-----------+----------------+----------------+------+--------------------+\n",
      "| C10001|  40.900749|         0.818182|     95.4|             0.0|                  95.4|         0.0|           0.166667|                       0.0|                        0.083333|                   0.0|               0|            2|      1000.0| 201.802084|      139.509787|             0.0|    12|[40.900749,0.8181...|\n",
      "| C10002|3202.467416|         0.909091|      0.0|             0.0|                   0.0| 6442.945483|                0.0|                       0.0|                             0.0|                  0.25|               4|            0|      7000.0|4103.032597|     1072.340217|        0.222222|    12|(17,[0,1,5,9,10,1...|\n",
      "+-------+-----------+-----------------+---------+----------------+----------------------+------------+-------------------+--------------------------+--------------------------------+----------------------+----------------+-------------+------------+-----------+----------------+----------------+------+--------------------+\n",
      "only showing top 2 rows\n",
      "\n"
     ]
    }
   ],
   "source": [
    "assembled_data = assemble.transform(data_customer)\n",
    "assembled_data.show(2)"
   ]
  },
  {
   "cell_type": "markdown",
   "id": "9be212d9",
   "metadata": {},
   "source": [
    "Now that all columns are transformed into a single feature vector we need to standardize the data to bring them to a comparable scale. E.g. Balance can have a scale from 10–1000 whereas balance frequency has a scale from 0–1 say. Euclidean distance is always impacted more by variables on a higher scale, hence it’s important to scale the variables out."
   ]
  },
  {
   "cell_type": "code",
   "execution_count": 7,
   "id": "e6d41e78",
   "metadata": {},
   "outputs": [
    {
     "name": "stdout",
     "output_type": "stream",
     "text": [
      "+-------+-----------+-----------------+---------+----------------+----------------------+------------+-------------------+--------------------------+--------------------------------+----------------------+----------------+-------------+------------+-----------+----------------+----------------+------+--------------------+--------------------+\n",
      "|CUST_ID|    BALANCE|BALANCE_FREQUENCY|PURCHASES|ONEOFF_PURCHASES|INSTALLMENTS_PURCHASES|CASH_ADVANCE|PURCHASES_FREQUENCY|ONEOFF_PURCHASES_FREQUENCY|PURCHASES_INSTALLMENTS_FREQUENCY|CASH_ADVANCE_FREQUENCY|CASH_ADVANCE_TRX|PURCHASES_TRX|CREDIT_LIMIT|   PAYMENTS|MINIMUM_PAYMENTS|PRC_FULL_PAYMENT|TENURE|            features|        standardized|\n",
      "+-------+-----------+-----------------+---------+----------------+----------------------+------------+-------------------+--------------------------+--------------------------------+----------------------+----------------+-------------+------------+-----------+----------------+----------------+------+--------------------+--------------------+\n",
      "| C10001|  40.900749|         0.818182|     95.4|             0.0|                  95.4|         0.0|           0.166667|                       0.0|                        0.083333|                   0.0|               0|            2|      1000.0| 201.802084|      139.509787|             0.0|    12|[40.900749,0.8181...|[0.01964935027114...|\n",
      "| C10002|3202.467416|         0.909091|      0.0|             0.0|                   0.0| 6442.945483|                0.0|                       0.0|                             0.0|                  0.25|               4|            0|      7000.0|4103.032597|     1072.340217|        0.222222|    12|(17,[0,1,5,9,10,1...|(17,[0,1,5,9,10,1...|\n",
      "+-------+-----------+-----------------+---------+----------------+----------------------+------------+-------------------+--------------------------+--------------------------------+----------------------+----------------+-------------+------------+-----------+----------------+----------------+------+--------------------+--------------------+\n",
      "only showing top 2 rows\n",
      "\n"
     ]
    }
   ],
   "source": [
    "from pyspark.ml.feature import StandardScaler\n",
    "\n",
    "scale = StandardScaler(inputCol='features', outputCol='standardized')\n",
    "\n",
    "data_scale=scale.fit(assembled_data)\n",
    "data_scale_output = data_scale.transform(assembled_data)\n",
    "\n",
    "data_scale_output.show(2)"
   ]
  },
  {
   "cell_type": "markdown",
   "id": "6fdde4a1",
   "metadata": {},
   "source": [
    "Now that our data is standardized we can develop the K Means algorithm."
   ]
  },
  {
   "cell_type": "markdown",
   "id": "09ffdbe6",
   "metadata": {},
   "source": [
    "K-means is one of the most commonly used clustering algorithms for grouping data into a predefined number of clusters. The spark.mllib includes a parallelized variant of the k-means++ method called kmeans||. The KMeans function from pyspark.ml.clustering includes the following parameters:\n",
    "\n",
    "    k is the number of clusters specified by the user\n",
    "    \n",
    "    maxIterations is the maximum number of iterations before the clustering algorithm stops. Note that if the intracluster distance doesn’t change beyond the epsilon value mentioned, the iteration will stop irrespective of max iterations\n",
    "    \n",
    "    initializationMode specifies either random initialization of centroids or initialization via k-means|| (similar to K-means ++)\n",
    "    \n",
    "    epsilon determines the distance threshold within which k-means is expected to converge\n",
    "    \n",
    "    initialModel is an optional set of cluster centroids that the user can provide as an input. If this parameter is used, the algorithm just runs once to allocate points to its nearest centroid"
   ]
  },
  {
   "cell_type": "markdown",
   "id": "cf5898f8",
   "metadata": {},
   "source": [
    "train(k=4, maxIterations=20, minDivisibleClusterSize=1.0, seed=-1888008604) are the default values."
   ]
  },
  {
   "cell_type": "code",
   "execution_count": 8,
   "id": "a6d12c20",
   "metadata": {},
   "outputs": [
    {
     "name": "stdout",
     "output_type": "stream",
     "text": [
      "silhouette_score 0.3008690254631598 for no of clusters 2\n",
      "silhouette_score 0.26991484851164343 for no of clusters 3\n",
      "silhouette_score 0.2824958884580647 for no of clusters 4\n",
      "silhouette_score 0.3100414419963152 for no of clusters 5\n",
      "silhouette_score 0.28173710618436026 for no of clusters 6\n",
      "silhouette_score 0.26733546276980363 for no of clusters 7\n",
      "silhouette_score 0.2968372729710698 for no of clusters 8\n",
      "silhouette_score 0.30405580278105937 for no of clusters 9\n"
     ]
    }
   ],
   "source": [
    "from pyspark.ml.clustering import KMeans\n",
    "from pyspark.ml.evaluation import ClusteringEvaluator\n",
    "\n",
    "silhouette_score = {}\n",
    "\n",
    "evaluator = ClusteringEvaluator(predictionCol='prediction',\n",
    "                               featuresCol='standardized',\n",
    "                               metricName='silhouette',\n",
    "                               distanceMeasure='squaredEuclidean')\n",
    "\n",
    "\n",
    "for i in range(2, 10):\n",
    "    KMeans_algo = KMeans(featuresCol='standardized', k=i)\n",
    "    KMeans_fit = KMeans_algo.fit(data_scale_output)\n",
    "    output = KMeans_fit.transform(data_scale_output)\n",
    "    \n",
    "    score = evaluator.evaluate(output)\n",
    "    silhouette_score[str(i)]=score\n",
    "    print(f'silhouette_score {score} for no of clusters {i}')"
   ]
  },
  {
   "cell_type": "markdown",
   "id": "62499238",
   "metadata": {},
   "source": [
    "Visualizing the silhouette score. Note previous versions of the K Means had computeScore() that calculated the sum of intracluster distance but got deprecated in Spark 3.0.0. Silhouette Score using ClusteringEvaluator() measures how close each point in one cluster is to points in the neighboring clusters thus helping in figuring out clusters that are compact and well-spaced out."
   ]
  },
  {
   "cell_type": "code",
   "execution_count": 9,
   "id": "0a89c93b",
   "metadata": {},
   "outputs": [
    {
     "data": {
      "text/plain": [
       "{'2': 0.3008690254631598,\n",
       " '3': 0.26991484851164343,\n",
       " '4': 0.2824958884580647,\n",
       " '5': 0.3100414419963152,\n",
       " '6': 0.28173710618436026,\n",
       " '7': 0.26733546276980363,\n",
       " '8': 0.2968372729710698,\n",
       " '9': 0.30405580278105937}"
      ]
     },
     "execution_count": 9,
     "metadata": {},
     "output_type": "execute_result"
    }
   ],
   "source": [
    "silhouette_score"
   ]
  },
  {
   "cell_type": "code",
   "execution_count": 10,
   "id": "0d6152f6",
   "metadata": {},
   "outputs": [
    {
     "data": {
      "text/plain": [
       "5"
      ]
     },
     "execution_count": 10,
     "metadata": {},
     "output_type": "execute_result"
    }
   ],
   "source": [
    "k = int(max(silhouette_score, key=silhouette_score.get))\n",
    "k"
   ]
  },
  {
   "cell_type": "code",
   "execution_count": 11,
   "id": "f17b02a2",
   "metadata": {},
   "outputs": [
    {
     "data": {
      "text/plain": [
       "Text(0, 0.5, 'cost')"
      ]
     },
     "execution_count": 11,
     "metadata": {},
     "output_type": "execute_result"
    },
    {
     "data": {
      "image/png": "[encoded data removed]",
      "text/plain": [
       "<Figure size 576x432 with 1 Axes>"
      ]
     },
     "metadata": {
      "needs_background": "light"
     },
     "output_type": "display_data"
    }
   ],
   "source": [
    "#Visualizing the silhouette scores in a plot\n",
    "\n",
    "import matplotlib.pyplot as plt\n",
    "fig, ax = plt.subplots(1, 1, figsize =(8,6))\n",
    "\n",
    "ax.plot(range(2,10), silhouette_score.values())\n",
    "ax.set_xlabel('k')\n",
    "ax.set_ylabel('cost')"
   ]
  },
  {
   "cell_type": "markdown",
   "id": "c7d8cfc0",
   "metadata": {},
   "source": [
    "The range of the Silhouette value is between +1 and -1. A high value is desirable and indicates that the point is placed in the correct cluster. If many points have a negative Silhouette value, it may indicate that we have created too many or too few clusters."
   ]
  },
  {
   "cell_type": "markdown",
   "id": "43534f85",
   "metadata": {},
   "source": [
    "I prefer going ahead with K=3/5 where a local maxima of Silhouette Score is observed. Since there is no correct answer for what value of K is good, we can restore to descriptive statistics and plots to check the distribution of customers. This is where SkLearn comes in more handy with documentation and PCA implementation. Most of us are more comfortable studying an elbow plot with SSE on the y axis rather than a Silhouette Score, but PySpark comes with its merit."
   ]
  },
  {
   "cell_type": "markdown",
   "id": "334b0643",
   "metadata": {},
   "source": [
    "Now for new k value re-fit the data and cluster the users"
   ]
  },
  {
   "cell_type": "code",
   "execution_count": 13,
   "id": "201d582c",
   "metadata": {},
   "outputs": [
    {
     "name": "stdout",
     "output_type": "stream",
     "text": [
      "silhouette_score 0.3100414419963152 for no of clusters 5\n"
     ]
    }
   ],
   "source": [
    "KMeans_Alg = KMeans(featuresCol='standardized', \n",
    "                    k=k,  \n",
    "                    initMode='k-means||', \n",
    "                    predictionCol='prediction')\n",
    "KMeans_fit = KMeans_Alg.fit(data_scale_output)\n",
    "output = KMeans_fit.transform(data_scale_output)\n",
    "score = evaluator.evaluate(output)\n",
    "print(f'silhouette_score {score} for no of clusters {k}')\n"
   ]
  },
  {
   "cell_type": "markdown",
   "id": "d88b2488",
   "metadata": {},
   "source": [
    "Lets visualize how many datapoints fall into each cluster"
   ]
  },
  {
   "cell_type": "code",
   "execution_count": 14,
   "id": "9983214d",
   "metadata": {},
   "outputs": [],
   "source": [
    "data_customer = data_customer.join(output.select('CUST_ID','prediction'), how='left', on='CUST_ID')"
   ]
  },
  {
   "cell_type": "code",
   "execution_count": 15,
   "id": "5ae23cc0",
   "metadata": {},
   "outputs": [
    {
     "name": "stdout",
     "output_type": "stream",
     "text": [
      "+-------+-----------+-----------------+---------+----------------+----------------------+------------+-------------------+--------------------------+--------------------------------+----------------------+----------------+-------------+------------+-----------+----------------+----------------+------+----------+\n",
      "|CUST_ID|    BALANCE|BALANCE_FREQUENCY|PURCHASES|ONEOFF_PURCHASES|INSTALLMENTS_PURCHASES|CASH_ADVANCE|PURCHASES_FREQUENCY|ONEOFF_PURCHASES_FREQUENCY|PURCHASES_INSTALLMENTS_FREQUENCY|CASH_ADVANCE_FREQUENCY|CASH_ADVANCE_TRX|PURCHASES_TRX|CREDIT_LIMIT|   PAYMENTS|MINIMUM_PAYMENTS|PRC_FULL_PAYMENT|TENURE|prediction|\n",
      "+-------+-----------+-----------------+---------+----------------+----------------------+------------+-------------------+--------------------------+--------------------------------+----------------------+----------------+-------------+------------+-----------+----------------+----------------+------+----------+\n",
      "| C10001|  40.900749|         0.818182|     95.4|             0.0|                  95.4|         0.0|           0.166667|                       0.0|                        0.083333|                   0.0|               0|            2|      1000.0| 201.802084|      139.509787|             0.0|    12|         0|\n",
      "| C10002|3202.467416|         0.909091|      0.0|             0.0|                   0.0| 6442.945483|                0.0|                       0.0|                             0.0|                  0.25|               4|            0|      7000.0|4103.032597|     1072.340217|        0.222222|    12|         1|\n",
      "+-------+-----------+-----------------+---------+----------------+----------------------+------------+-------------------+--------------------------+--------------------------------+----------------------+----------------+-------------+------------+-----------+----------------+----------------+------+----------+\n",
      "only showing top 2 rows\n",
      "\n"
     ]
    }
   ],
   "source": [
    "data_customer.show(2)"
   ]
  },
  {
   "cell_type": "code",
   "execution_count": 16,
   "id": "32c88ce2",
   "metadata": {},
   "outputs": [
    {
     "data": {
      "text/plain": [
       "425"
      ]
     },
     "execution_count": 16,
     "metadata": {},
     "output_type": "execute_result"
    }
   ],
   "source": [
    "del output\n",
    "del data_scale_output\n",
    "del assemble\n",
    "del assembled_data\n",
    "del data_scale\n",
    "gc.collect()"
   ]
  },
  {
   "cell_type": "code",
   "execution_count": 36,
   "id": "4ff2f14e",
   "metadata": {},
   "outputs": [],
   "source": [
    "from pyspark.sql.functions import *"
   ]
  },
  {
   "cell_type": "code",
   "execution_count": 39,
   "id": "e4a3789f",
   "metadata": {},
   "outputs": [
    {
     "name": "stdout",
     "output_type": "stream",
     "text": [
      "+----------+-----+\n",
      "|prediction|count|\n",
      "+----------+-----+\n",
      "|         1| 1212|\n",
      "|         3|  192|\n",
      "|         4|   57|\n",
      "|         2| 3350|\n",
      "|         0| 4139|\n",
      "+----------+-----+\n",
      "\n"
     ]
    }
   ],
   "source": [
    "data_customer.groupBy('prediction').count().show()"
   ]
  },
  {
   "cell_type": "code",
   "execution_count": 47,
   "id": "9d899b82",
   "metadata": {},
   "outputs": [
    {
     "name": "stdout",
     "output_type": "stream",
     "text": [
      "+-------+----------+-----+\n",
      "|CUST_ID|prediction|count|\n",
      "+-------+----------+-----+\n",
      "| C10387|         0|    1|\n",
      "| C10819|         2|    1|\n",
      "| C11156|         2|    1|\n",
      "| C11275|         0|    1|\n",
      "| C11399|         0|    1|\n",
      "| C11680|         1|    1|\n",
      "| C11848|         2|    1|\n",
      "| C12300|         2|    1|\n",
      "| C12346|         0|    1|\n",
      "| C13167|         0|    1|\n",
      "| C13505|         2|    1|\n",
      "| C13541|         0|    1|\n",
      "| C13543|         2|    1|\n",
      "| C13942|         0|    1|\n",
      "| C14069|         0|    1|\n",
      "| C14400|         3|    1|\n",
      "| C14506|         2|    1|\n",
      "| C14562|         2|    1|\n",
      "| C14601|         1|    1|\n",
      "| C15018|         0|    1|\n",
      "+-------+----------+-----+\n",
      "only showing top 20 rows\n",
      "\n"
     ]
    }
   ],
   "source": [
    "data_customer.groupBy('CUST_ID','prediction').count().show()"
   ]
  },
  {
   "cell_type": "code",
   "execution_count": 50,
   "id": "dd68b577",
   "metadata": {},
   "outputs": [],
   "source": [
    "import seaborn as sns"
   ]
  },
  {
   "cell_type": "code",
   "execution_count": 52,
   "id": "3f135782",
   "metadata": {},
   "outputs": [
    {
     "name": "stderr",
     "output_type": "stream",
     "text": [
      "/home/decentboy/.local/lib/python3.9/site-packages/seaborn/_decorators.py:36: FutureWarning: Pass the following variable as a keyword arg: x. From version 0.12, the only valid positional argument will be `data`, and passing other arguments without an explicit keyword will result in an error or misinterpretation.\n",
      "  warnings.warn(\n"
     ]
    },
    {
     "data": {
      "image/png": "[encoded data removed]",
      "text/plain": [
       "<Figure size 432x288 with 1 Axes>"
      ]
     },
     "metadata": {
      "needs_background": "light"
     },
     "output_type": "display_data"
    }
   ],
   "source": [
    "clusters = [val.prediction for val in data_customer.select('prediction').collect()]\n",
    "customers_index = [i for i in range(data_customer.count())]\n",
    "sns.countplot(clusters) # , customers_index)\n",
    "\n",
    "plt.ylabel('customers count')\n",
    "plt.xlabel('clusters')\n",
    "plt.title('customers count vs clusters')\n",
    "plt.legend(['clusters'], loc='upper right')\n",
    "\n",
    "plt.show()"
   ]
  },
  {
   "cell_type": "code",
   "execution_count": 54,
   "id": "ecea42ee",
   "metadata": {},
   "outputs": [
    {
     "data": {
      "text/plain": [
       "['CUST_ID',\n",
       " 'BALANCE',\n",
       " 'BALANCE_FREQUENCY',\n",
       " 'PURCHASES',\n",
       " 'ONEOFF_PURCHASES',\n",
       " 'INSTALLMENTS_PURCHASES',\n",
       " 'CASH_ADVANCE',\n",
       " 'PURCHASES_FREQUENCY',\n",
       " 'ONEOFF_PURCHASES_FREQUENCY',\n",
       " 'PURCHASES_INSTALLMENTS_FREQUENCY',\n",
       " 'CASH_ADVANCE_FREQUENCY',\n",
       " 'CASH_ADVANCE_TRX',\n",
       " 'PURCHASES_TRX',\n",
       " 'CREDIT_LIMIT',\n",
       " 'PAYMENTS',\n",
       " 'MINIMUM_PAYMENTS',\n",
       " 'PRC_FULL_PAYMENT',\n",
       " 'TENURE',\n",
       " 'prediction']"
      ]
     },
     "execution_count": 54,
     "metadata": {},
     "output_type": "execute_result"
    }
   ],
   "source": [
    "data_customer.columns"
   ]
  },
  {
   "cell_type": "code",
   "execution_count": 84,
   "id": "fd124dbf",
   "metadata": {},
   "outputs": [
    {
     "name": "stderr",
     "output_type": "stream",
     "text": [
      "/home/decentboy/.local/lib/python3.9/site-packages/seaborn/_decorators.py:36: FutureWarning: Pass the following variables as keyword args: x, y. From version 0.12, the only valid positional argument will be `data`, and passing other arguments without an explicit keyword will result in an error or misinterpretation.\n",
      "  warnings.warn(\n"
     ]
    },
    {
     "data": {
      "image/png": "[encoded data removed]",
      "text/plain": [
       "<Figure size 432x288 with 1 Axes>"
      ]
     },
     "metadata": {
      "needs_background": "light"
     },
     "output_type": "display_data"
    },
    {
     "data": {
      "text/plain": [
       "<AxesSubplot:ylabel='Count'>"
      ]
     },
     "execution_count": 84,
     "metadata": {},
     "output_type": "execute_result"
    },
    {
     "data": {
      "image/png": "[encoded data removed]",
      "text/plain": [
       "<Figure size 432x288 with 1 Axes>"
      ]
     },
     "metadata": {
      "needs_background": "light"
     },
     "output_type": "display_data"
    }
   ],
   "source": [
    "clusters = [val.prediction for val in data_customer.select('prediction').collect()]\n",
    "PRC_FULL_PAYMENT = [val.PRC_FULL_PAYMENT for val in data_customer.select('PRC_FULL_PAYMENT').collect()]\n",
    "\n",
    "sns.boxplot(clusters, PRC_FULL_PAYMENT)\n",
    "\n",
    "plt.ylabel('Account PRC_FULL_PAYMENT')\n",
    "plt.xlabel('clusters')\n",
    "plt.title('Account PRC_FULL_PAYMENT vs clusters')\n",
    "plt.legend(['clusters'], loc='upper right')\n",
    "\n",
    "plt.show()\n",
    "\n",
    "sns.histplot(PRC_FULL_PAYMENT, kde=True)"
   ]
  },
  {
   "cell_type": "code",
   "execution_count": 81,
   "id": "2a4b01d0",
   "metadata": {},
   "outputs": [
    {
     "name": "stderr",
     "output_type": "stream",
     "text": [
      "/home/decentboy/.local/lib/python3.9/site-packages/seaborn/_decorators.py:36: FutureWarning: Pass the following variables as keyword args: x, y. From version 0.12, the only valid positional argument will be `data`, and passing other arguments without an explicit keyword will result in an error or misinterpretation.\n",
      "  warnings.warn(\n"
     ]
    },
    {
     "data": {
      "image/png": "[encoded data removed]",
      "text/plain": [
       "<Figure size 432x288 with 1 Axes>"
      ]
     },
     "metadata": {
      "needs_background": "light"
     },
     "output_type": "display_data"
    },
    {
     "data": {
      "text/plain": [
       "<AxesSubplot:ylabel='Count'>"
      ]
     },
     "execution_count": 81,
     "metadata": {},
     "output_type": "execute_result"
    },
    {
     "data": {
      "image/png": "[encoded data removed]",
      "text/plain": [
       "<Figure size 432x288 with 1 Axes>"
      ]
     },
     "metadata": {
      "needs_background": "light"
     },
     "output_type": "display_data"
    }
   ],
   "source": [
    "clusters = [val.prediction for val in data_customer.select('prediction').collect()]\n",
    "TENURE = [val.TENURE for val in data_customer.select('TENURE').collect()]\n",
    "\n",
    "sns.scatterplot(clusters, TENURE)\n",
    "\n",
    "plt.ylabel('Account TENURE')\n",
    "plt.xlabel('clusters')\n",
    "plt.title('Account TENURE vs clusters')\n",
    "plt.legend(['clusters'], loc='upper right')\n",
    "\n",
    "plt.show()\n",
    "\n",
    "sns.histplot(TENURE, kde=True)"
   ]
  },
  {
   "cell_type": "code",
   "execution_count": 61,
   "id": "1a46e5bf",
   "metadata": {},
   "outputs": [
    {
     "name": "stderr",
     "output_type": "stream",
     "text": [
      "/home/decentboy/.local/lib/python3.9/site-packages/seaborn/_decorators.py:36: FutureWarning: Pass the following variables as keyword args: x, y. From version 0.12, the only valid positional argument will be `data`, and passing other arguments without an explicit keyword will result in an error or misinterpretation.\n",
      "  warnings.warn(\n"
     ]
    },
    {
     "data": {
      "image/png": "[encoded data removed]",
      "text/plain": [
       "<Figure size 432x288 with 1 Axes>"
      ]
     },
     "metadata": {
      "needs_background": "light"
     },
     "output_type": "display_data"
    }
   ],
   "source": [
    "clusters = [val.prediction for val in data_customer.select('prediction').collect()]\n",
    "CREDIT_LIMIT = [val.CREDIT_LIMIT for val in data_customer.select('CREDIT_LIMIT').collect()]\n",
    "\n",
    "sns.boxplot(clusters, CREDIT_LIMIT)\n",
    "\n",
    "plt.ylabel('Account CREDIT_LIMIT')\n",
    "plt.xlabel('clusters')\n",
    "plt.title('Account CREDIT_LIMIT vs clusters')\n",
    "plt.legend(['clusters'], loc='upper right')\n",
    "\n",
    "plt.show()"
   ]
  },
  {
   "cell_type": "code",
   "execution_count": 66,
   "id": "f22d5dd8",
   "metadata": {},
   "outputs": [
    {
     "name": "stderr",
     "output_type": "stream",
     "text": [
      "/home/decentboy/.local/lib/python3.9/site-packages/seaborn/_decorators.py:36: FutureWarning: Pass the following variables as keyword args: x, y. From version 0.12, the only valid positional argument will be `data`, and passing other arguments without an explicit keyword will result in an error or misinterpretation.\n",
      "  warnings.warn(\n"
     ]
    },
    {
     "data": {
      "image/png": "[encoded data removed]",
      "text/plain": [
       "<Figure size 432x288 with 1 Axes>"
      ]
     },
     "metadata": {
      "needs_background": "light"
     },
     "output_type": "display_data"
    }
   ],
   "source": [
    "clusters = [val.prediction for val in data_customer.select('prediction').collect()]\n",
    "PURCHASES_FREQUENCY = [val.PURCHASES_FREQUENCY for val in data_customer.select('PURCHASES_FREQUENCY').collect()]\n",
    "\n",
    "sns.boxplot(clusters, PURCHASES_FREQUENCY)\n",
    "\n",
    "plt.ylabel('Account PURCHASES_FREQUENCY')\n",
    "plt.xlabel('clusters')\n",
    "plt.title('Account PURCHASES_FREQUENCY vs clusters')\n",
    "plt.legend(['clusters'], loc='upper right')\n",
    "\n",
    "plt.show()"
   ]
  },
  {
   "cell_type": "code",
   "execution_count": 67,
   "id": "16c8712d",
   "metadata": {},
   "outputs": [
    {
     "name": "stderr",
     "output_type": "stream",
     "text": [
      "/home/decentboy/.local/lib/python3.9/site-packages/seaborn/_decorators.py:36: FutureWarning: Pass the following variables as keyword args: x, y. From version 0.12, the only valid positional argument will be `data`, and passing other arguments without an explicit keyword will result in an error or misinterpretation.\n",
      "  warnings.warn(\n"
     ]
    },
    {
     "data": {
      "image/png": "[encoded data removed]",
      "text/plain": [
       "<Figure size 432x288 with 1 Axes>"
      ]
     },
     "metadata": {
      "needs_background": "light"
     },
     "output_type": "display_data"
    }
   ],
   "source": [
    "clusters = [val.prediction for val in data_customer.select('prediction').collect()]\n",
    "CASH_ADVANCE = [val.CASH_ADVANCE for val in data_customer.select('CASH_ADVANCE').collect()]\n",
    "\n",
    "sns.boxenplot(clusters, CASH_ADVANCE)\n",
    "\n",
    "plt.ylabel('Account CASH_ADVANCE')\n",
    "plt.xlabel('clusters')\n",
    "plt.title('Account CASH_ADVANCE vs clusters')\n",
    "plt.legend(['clusters'], loc='upper right')\n",
    "\n",
    "plt.show()"
   ]
  },
  {
   "cell_type": "code",
   "execution_count": 69,
   "id": "c8f3f725",
   "metadata": {},
   "outputs": [
    {
     "name": "stderr",
     "output_type": "stream",
     "text": [
      "/home/decentboy/.local/lib/python3.9/site-packages/seaborn/_decorators.py:36: FutureWarning: Pass the following variables as keyword args: x, y. From version 0.12, the only valid positional argument will be `data`, and passing other arguments without an explicit keyword will result in an error or misinterpretation.\n",
      "  warnings.warn(\n"
     ]
    },
    {
     "data": {
      "image/png": "[encoded data removed]",
      "text/plain": [
       "<Figure size 432x288 with 1 Axes>"
      ]
     },
     "metadata": {
      "needs_background": "light"
     },
     "output_type": "display_data"
    }
   ],
   "source": [
    "clusters = [val.prediction for val in data_customer.select('prediction').collect()]\n",
    "PURCHASES = [val.PURCHASES for val in data_customer.select('PURCHASES').collect()]\n",
    "\n",
    "sns.boxplot(clusters, PURCHASES)\n",
    "\n",
    "plt.ylabel('Account Purchases')\n",
    "plt.xlabel('clusters')\n",
    "plt.title('Account purchases vs clusters')\n",
    "plt.legend(['clusters'], loc='upper right')\n",
    "\n",
    "plt.show()"
   ]
  },
  {
   "cell_type": "code",
   "execution_count": 70,
   "id": "fe8d4b98",
   "metadata": {},
   "outputs": [
    {
     "name": "stderr",
     "output_type": "stream",
     "text": [
      "/home/decentboy/.local/lib/python3.9/site-packages/seaborn/_decorators.py:36: FutureWarning: Pass the following variables as keyword args: x, y. From version 0.12, the only valid positional argument will be `data`, and passing other arguments without an explicit keyword will result in an error or misinterpretation.\n",
      "  warnings.warn(\n"
     ]
    },
    {
     "data": {
      "image/png": "[encoded data removed]",
      "text/plain": [
       "<Figure size 432x288 with 1 Axes>"
      ]
     },
     "metadata": {
      "needs_background": "light"
     },
     "output_type": "display_data"
    }
   ],
   "source": [
    "clusters = [val.prediction for val in data_customer.select('prediction').collect()]\n",
    "BALANCE = [val.BALANCE for val in data_customer.select('BALANCE').collect()]\n",
    "\n",
    "sns.boxplot(clusters, BALANCE)\n",
    "\n",
    "plt.ylabel('Account balance')\n",
    "plt.xlabel('clusters')\n",
    "plt.title('Account balance vs clusters')\n",
    "plt.legend(['clusters'], loc='upper right')\n",
    "\n",
    "plt.show()"
   ]
  },
  {
   "cell_type": "markdown",
   "id": "86c29e2d",
   "metadata": {},
   "source": [
    "Why PySpark?\n",
    "\n",
    "PySpark uses the concept of Data Parallelism or Result Parallelism when performing the K Means clustering. Imagine you need to roll out targeted marketing campaigns for the Boxing Day event in Melbourne and you want to reach out to 200K customers with different purchasing attributes. Imagine running multiple iterations of K Means on your local system. For K=5, the number of distance metrics you require to calculate is 5 x 200K = 1Million. 1 Million such metrics need to be calculated for say 30 times before a convergence criterion is met, i.e. 30Million distances (euclidean). You will require a lot of computation power and time to handle a scenario like this"
   ]
  },
  {
   "cell_type": "markdown",
   "id": "08f1b297",
   "metadata": {},
   "source": [
    "Data Parallelism:\n",
    "\n",
    "What data parallelism does is, creates parallelism from the beginning by partitioning the dataset into smaller partitions. On the other hand, result parallelism is based on targeted clusters. Let’s say:\n",
    "\n",
    "D = Number of Records {X1, X2, ……, Xn}\n",
    "k = Number of clusters\n",
    "P = Number of Processors {P1, P2,…Pm}\n",
    "C = Initial Centroids {C1, C2, …. Ck}\n",
    "\n",
    "Data D is divided across P processors. Each processor works on a set of records (determined by spark configuration). The initial centroid values, C, are shared across each of these processors\n",
    "\n",
    "Now every processor has centroid information. The processors compute the distance of their records to these centroids and form local clusters by assigning data points to its closest centroid\n",
    "\n",
    "Once step 2 is done, the sum and count of records for each of these clusters across P processors are stored by a master process for future reference\n",
    "\n",
    "Once one iteration is completed, the information from the processor is exchanged and a master process computes the updated Centroids and shares them across the P processors again, i.e. one point is allocated to K clusters, a master process updates the centroids, and reshare the information back with the processors\n",
    "\n",
    "This process keeps iterating till convergence is met. Once a convergence criterion is met, the master process collects local clusters and combines them into a global one"
   ]
  },
  {
   "cell_type": "markdown",
   "id": "8d572a38",
   "metadata": {},
   "source": [
    "Imagine 200K records divided across 3 processors each having ~70K records. This is where distributed processing comes into the picture to reduce the volume of data, yet ensuring a complete result.\n",
    "\n",
    "Result Parallelism:\n",
    "    \n",
    "In result parallelism say:\n",
    "    \n",
    "D = Number of Records {X1, X2, ……, Xn}\n",
    "k = Number of clusters\n",
    "P = Number of Processors {P1, P2,…Pm}\n",
    "C = Initial Centroids {C1, C2, …. Ck}\n",
    "\n",
    "Data D is divided across P processors and then sorted within each processor. \n",
    "\n",
    "Each processor works on a set of records (determined by spark configuration)\n",
    "\n",
    "The initial centroid values, C, are initialized and divided/shared across each of these processors (i.e., unlike data parallelism where all centroid values are shared across all processors, here, we pass one centroid value to one processor\n",
    "\n",
    "Now every processor has one centroid of information. Compute the distance of these points to these centroids. For data points in a processor which are extremely low or high: If they are closer to the centroid of processor assign them to that cluster, else if they are closer to the centroid belonging to a different processor, move data point to the new processor\n",
    "\n",
    "Repeat till convergence is met. All local clusters from Processor P is returned"
   ]
  },
  {
   "cell_type": "code",
   "execution_count": null,
   "id": "7b7a5c43",
   "metadata": {},
   "outputs": [],
   "source": []
  },
  {
   "cell_type": "code",
   "execution_count": null,
   "id": "a0399bf7",
   "metadata": {},
   "outputs": [],
   "source": []
  },
  {
   "cell_type": "code",
   "execution_count": null,
   "id": "b2676dec",
   "metadata": {},
   "outputs": [],
   "source": []
  }
 ],
 "metadata": {
  "kernelspec": {
   "display_name": "Python 3 (ipykernel)",
   "language": "python",
   "name": "python3"
  },
  "language_info": {
   "codemirror_mode": {
    "name": "ipython",
    "version": 3
   },
   "file_extension": ".py",
   "mimetype": "text/x-python",
   "name": "python",
   "nbconvert_exporter": "python",
   "pygments_lexer": "ipython3",
   "version": "3.9.12"
  }
 },
 "nbformat": 4,
 "nbformat_minor": 5
}
